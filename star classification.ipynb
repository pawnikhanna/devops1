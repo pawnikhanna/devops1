{
 "cells": [
  {
   "cell_type": "code",
   "execution_count": 41,
   "metadata": {},
   "outputs": [],
   "source": [
    "import tensorflow as tf \n",
    "from tensorflow import keras\n",
    "from sklearn import preprocessing, model_selection\n",
    "import numpy as np \n",
    "import pandas as pd "
   ]
  },
  {
   "cell_type": "code",
   "execution_count": 42,
   "metadata": {},
   "outputs": [
    {
     "data": {
      "text/html": [
       "<div>\n",
       "<style scoped>\n",
       "    .dataframe tbody tr th:only-of-type {\n",
       "        vertical-align: middle;\n",
       "    }\n",
       "\n",
       "    .dataframe tbody tr th {\n",
       "        vertical-align: top;\n",
       "    }\n",
       "\n",
       "    .dataframe thead th {\n",
       "        text-align: right;\n",
       "    }\n",
       "</style>\n",
       "<table border=\"1\" class=\"dataframe\">\n",
       "  <thead>\n",
       "    <tr style=\"text-align: right;\">\n",
       "      <th></th>\n",
       "      <th>Temperature (K)</th>\n",
       "      <th>Luminosity(L/Lo)</th>\n",
       "      <th>Radius(R/Ro)</th>\n",
       "      <th>Absolute magnitude(Mv)</th>\n",
       "      <th>Star type</th>\n",
       "      <th>Star color</th>\n",
       "      <th>Spectral Class</th>\n",
       "    </tr>\n",
       "  </thead>\n",
       "  <tbody>\n",
       "    <tr>\n",
       "      <td>0</td>\n",
       "      <td>3068</td>\n",
       "      <td>0.002400</td>\n",
       "      <td>0.1700</td>\n",
       "      <td>16.12</td>\n",
       "      <td>0</td>\n",
       "      <td>Red</td>\n",
       "      <td>M</td>\n",
       "    </tr>\n",
       "    <tr>\n",
       "      <td>1</td>\n",
       "      <td>3042</td>\n",
       "      <td>0.000500</td>\n",
       "      <td>0.1542</td>\n",
       "      <td>16.60</td>\n",
       "      <td>0</td>\n",
       "      <td>Red</td>\n",
       "      <td>M</td>\n",
       "    </tr>\n",
       "    <tr>\n",
       "      <td>2</td>\n",
       "      <td>2600</td>\n",
       "      <td>0.000300</td>\n",
       "      <td>0.1020</td>\n",
       "      <td>18.70</td>\n",
       "      <td>0</td>\n",
       "      <td>Red</td>\n",
       "      <td>M</td>\n",
       "    </tr>\n",
       "    <tr>\n",
       "      <td>3</td>\n",
       "      <td>2800</td>\n",
       "      <td>0.000200</td>\n",
       "      <td>0.1600</td>\n",
       "      <td>16.65</td>\n",
       "      <td>0</td>\n",
       "      <td>Red</td>\n",
       "      <td>M</td>\n",
       "    </tr>\n",
       "    <tr>\n",
       "      <td>4</td>\n",
       "      <td>1939</td>\n",
       "      <td>0.000138</td>\n",
       "      <td>0.1030</td>\n",
       "      <td>20.06</td>\n",
       "      <td>0</td>\n",
       "      <td>Red</td>\n",
       "      <td>M</td>\n",
       "    </tr>\n",
       "  </tbody>\n",
       "</table>\n",
       "</div>"
      ],
      "text/plain": [
       "   Temperature (K)  Luminosity(L/Lo)  Radius(R/Ro)  Absolute magnitude(Mv)  \\\n",
       "0             3068          0.002400        0.1700                   16.12   \n",
       "1             3042          0.000500        0.1542                   16.60   \n",
       "2             2600          0.000300        0.1020                   18.70   \n",
       "3             2800          0.000200        0.1600                   16.65   \n",
       "4             1939          0.000138        0.1030                   20.06   \n",
       "\n",
       "   Star type Star color Spectral Class  \n",
       "0          0        Red              M  \n",
       "1          0        Red              M  \n",
       "2          0        Red              M  \n",
       "3          0        Red              M  \n",
       "4          0        Red              M  "
      ]
     },
     "execution_count": 42,
     "metadata": {},
     "output_type": "execute_result"
    }
   ],
   "source": [
    "df = pd.read_csv('6 class csv.csv')\n",
    "df.head()"
   ]
  },
  {
   "cell_type": "code",
   "execution_count": 43,
   "metadata": {},
   "outputs": [
    {
     "data": {
      "text/plain": [
       "False"
      ]
     },
     "execution_count": 43,
     "metadata": {},
     "output_type": "execute_result"
    }
   ],
   "source": [
    "df.isnull().values.any()"
   ]
  },
  {
   "cell_type": "code",
   "execution_count": 44,
   "metadata": {},
   "outputs": [
    {
     "data": {
      "text/html": [
       "<div>\n",
       "<style scoped>\n",
       "    .dataframe tbody tr th:only-of-type {\n",
       "        vertical-align: middle;\n",
       "    }\n",
       "\n",
       "    .dataframe tbody tr th {\n",
       "        vertical-align: top;\n",
       "    }\n",
       "\n",
       "    .dataframe thead th {\n",
       "        text-align: right;\n",
       "    }\n",
       "</style>\n",
       "<table border=\"1\" class=\"dataframe\">\n",
       "  <thead>\n",
       "    <tr style=\"text-align: right;\">\n",
       "      <th></th>\n",
       "      <th>Temperature (K)</th>\n",
       "      <th>Luminosity(L/Lo)</th>\n",
       "      <th>Radius(R/Ro)</th>\n",
       "      <th>Absolute magnitude(Mv)</th>\n",
       "      <th>Star type</th>\n",
       "    </tr>\n",
       "  </thead>\n",
       "  <tbody>\n",
       "    <tr>\n",
       "      <td>Temperature (K)</td>\n",
       "      <td>1.000000</td>\n",
       "      <td>0.393404</td>\n",
       "      <td>0.064216</td>\n",
       "      <td>-0.420261</td>\n",
       "      <td>0.411129</td>\n",
       "    </tr>\n",
       "    <tr>\n",
       "      <td>Luminosity(L/Lo)</td>\n",
       "      <td>0.393404</td>\n",
       "      <td>1.000000</td>\n",
       "      <td>0.526516</td>\n",
       "      <td>-0.692619</td>\n",
       "      <td>0.676845</td>\n",
       "    </tr>\n",
       "    <tr>\n",
       "      <td>Radius(R/Ro)</td>\n",
       "      <td>0.064216</td>\n",
       "      <td>0.526516</td>\n",
       "      <td>1.000000</td>\n",
       "      <td>-0.608728</td>\n",
       "      <td>0.660975</td>\n",
       "    </tr>\n",
       "    <tr>\n",
       "      <td>Absolute magnitude(Mv)</td>\n",
       "      <td>-0.420261</td>\n",
       "      <td>-0.692619</td>\n",
       "      <td>-0.608728</td>\n",
       "      <td>1.000000</td>\n",
       "      <td>-0.955276</td>\n",
       "    </tr>\n",
       "    <tr>\n",
       "      <td>Star type</td>\n",
       "      <td>0.411129</td>\n",
       "      <td>0.676845</td>\n",
       "      <td>0.660975</td>\n",
       "      <td>-0.955276</td>\n",
       "      <td>1.000000</td>\n",
       "    </tr>\n",
       "  </tbody>\n",
       "</table>\n",
       "</div>"
      ],
      "text/plain": [
       "                        Temperature (K)  Luminosity(L/Lo)  Radius(R/Ro)  \\\n",
       "Temperature (K)                1.000000          0.393404      0.064216   \n",
       "Luminosity(L/Lo)               0.393404          1.000000      0.526516   \n",
       "Radius(R/Ro)                   0.064216          0.526516      1.000000   \n",
       "Absolute magnitude(Mv)        -0.420261         -0.692619     -0.608728   \n",
       "Star type                      0.411129          0.676845      0.660975   \n",
       "\n",
       "                        Absolute magnitude(Mv)  Star type  \n",
       "Temperature (K)                      -0.420261   0.411129  \n",
       "Luminosity(L/Lo)                     -0.692619   0.676845  \n",
       "Radius(R/Ro)                         -0.608728   0.660975  \n",
       "Absolute magnitude(Mv)                1.000000  -0.955276  \n",
       "Star type                            -0.955276   1.000000  "
      ]
     },
     "execution_count": 44,
     "metadata": {},
     "output_type": "execute_result"
    }
   ],
   "source": [
    "df.corr()"
   ]
  },
  {
   "cell_type": "code",
   "execution_count": 45,
   "metadata": {},
   "outputs": [
    {
     "data": {
      "image/png": "[encoded data removed]",
      "text/plain": [
       "<Figure size 432x432 with 1 Axes>"
      ]
     },
     "metadata": {
      "needs_background": "light"
     },
     "output_type": "display_data"
    }
   ],
   "source": [
    "import matplotlib.pyplot as plt\n",
    "\n",
    "def plot_corr(df):\n",
    "    corr = df.corr()\n",
    "    fig,ax = plt.subplots(figsize = (6,6))\n",
    "    ax.matshow(corr)\n",
    "    plt.xticks(range(len(corr.columns)),corr.columns)\n",
    "    plt.yticks(range(len(corr.columns)),corr.columns)\n",
    "    \n",
    "    \n",
    "plot_corr(df)"
   ]
  },
  {
   "cell_type": "code",
   "execution_count": 46,
   "metadata": {},
   "outputs": [
    {
     "name": "stdout",
     "output_type": "stream",
     "text": [
      "<class 'pandas.core.frame.DataFrame'>\n",
      "RangeIndex: 240 entries, 0 to 239\n",
      "Data columns (total 7 columns):\n",
      "Temperature (K)           240 non-null int64\n",
      "Luminosity(L/Lo)          240 non-null float64\n",
      "Radius(R/Ro)              240 non-null float64\n",
      "Absolute magnitude(Mv)    240 non-null float64\n",
      "Star type                 240 non-null int64\n",
      "Star color                240 non-null object\n",
      "Spectral Class            240 non-null object\n",
      "dtypes: float64(3), int64(2), object(2)\n",
      "memory usage: 13.2+ KB\n"
     ]
    }
   ],
   "source": [
    "df.info()"
   ]
  },
  {
   "cell_type": "code",
   "execution_count": 47,
   "metadata": {},
   "outputs": [],
   "source": [
    "x = np.array(df.drop(['Star type', 'Star color','Spectral Class'],1))   "
   ]
  },
  {
   "cell_type": "code",
   "execution_count": 48,
   "metadata": {},
   "outputs": [],
   "source": [
    "y = np.array(df['Star type'], dtype ='float')\n",
    "y.shape = (len(y),1)"
   ]
  },
  {
   "cell_type": "code",
   "execution_count": 49,
   "metadata": {},
   "outputs": [],
   "source": [
    "x_train ,x_test , y_train, y_test = model_selection.train_test_split(x,y, test_size = 0.3) "
   ]
  },
  {
   "cell_type": "code",
   "execution_count": 50,
   "metadata": {},
   "outputs": [],
   "source": [
    "x_f_train = preprocessing.scale(x_train)\n",
    "x_f_test = preprocessing.scale(x_test)\n",
    "y_f_train = y_train\n",
    "y_f_test = y_test"
   ]
  },
  {
   "cell_type": "code",
   "execution_count": 51,
   "metadata": {},
   "outputs": [],
   "source": [
    "model = tf.keras.models.Sequential()\n",
    "model.add(tf.keras.layers.Flatten())"
   ]
  },
  {
   "cell_type": "code",
   "execution_count": 52,
   "metadata": {},
   "outputs": [
    {
     "data": {
      "text/plain": [
       "(168, 4)"
      ]
     },
     "execution_count": 52,
     "metadata": {},
     "output_type": "execute_result"
    }
   ],
   "source": [
    "x_f_train.shape"
   ]
  },
  {
   "cell_type": "code",
   "execution_count": 53,
   "metadata": {},
   "outputs": [
    {
     "data": {
      "text/plain": [
       "(168, 1)"
      ]
     },
     "execution_count": 53,
     "metadata": {},
     "output_type": "execute_result"
    }
   ],
   "source": [
    "y_f_train.shape"
   ]
  },
  {
   "cell_type": "code",
   "execution_count": 54,
   "metadata": {},
   "outputs": [],
   "source": [
    "from keras.layers import Dense"
   ]
  },
  {
   "cell_type": "code",
   "execution_count": 55,
   "metadata": {},
   "outputs": [],
   "source": [
    "model.add(tf.keras.layers.Dense(200,activation ='relu'))"
   ]
  },
  {
   "cell_type": "code",
   "execution_count": 56,
   "metadata": {},
   "outputs": [],
   "source": [
    "model.add(tf.keras.layers.Dense(300,activation = 'relu'))"
   ]
  },
  {
   "cell_type": "code",
   "execution_count": 57,
   "metadata": {},
   "outputs": [],
   "source": [
    "model.add(tf.keras.layers.Dense(6,activation = 'softmax'))"
   ]
  },
  {
   "cell_type": "code",
   "execution_count": 58,
   "metadata": {},
   "outputs": [],
   "source": [
    "from keras.optimizers import RMSprop"
   ]
  },
  {
   "cell_type": "code",
   "execution_count": 59,
   "metadata": {},
   "outputs": [],
   "source": [
    "model.compile(optimizer = 'Adam',\n",
    "       loss = 'sparse_categorical_crossentropy',\n",
    "       metrics=['accuracy'])"
   ]
  },
  {
   "cell_type": "code",
   "execution_count": 60,
   "metadata": {},
   "outputs": [
    {
     "name": "stdout",
     "output_type": "stream",
     "text": [
      "Train on 168 samples\n",
      "Epoch 1/100\n",
      "168/168 [==============================] - 1s 5ms/sample - loss: 1.6082 - accuracy: 0.5298\n",
      "Epoch 2/100\n",
      "168/168 [==============================] - 0s 124us/sample - loss: 1.2355 - accuracy: 0.7262\n",
      "Epoch 3/100\n",
      "168/168 [==============================] - 0s 126us/sample - loss: 0.9866 - accuracy: 0.7381\n",
      "Epoch 4/100\n",
      "168/168 [==============================] - 0s 104us/sample - loss: 0.7888 - accuracy: 0.7381\n",
      "Epoch 5/100\n",
      "168/168 [==============================] - 0s 131us/sample - loss: 0.6300 - accuracy: 0.8274\n",
      "Epoch 6/100\n",
      "168/168 [==============================] - 0s 119us/sample - loss: 0.4996 - accuracy: 0.9405\n",
      "Epoch 7/100\n",
      "168/168 [==============================] - 0s 116us/sample - loss: 0.4060 - accuracy: 0.9226\n",
      "Epoch 8/100\n",
      "168/168 [==============================] - 0s 130us/sample - loss: 0.3353 - accuracy: 0.9345\n",
      "Epoch 9/100\n",
      "168/168 [==============================] - 0s 130us/sample - loss: 0.2879 - accuracy: 0.9702\n",
      "Epoch 10/100\n",
      "168/168 [==============================] - 0s 138us/sample - loss: 0.2450 - accuracy: 0.9940\n",
      "Epoch 11/100\n",
      "168/168 [==============================] - 0s 143us/sample - loss: 0.2150 - accuracy: 0.9643\n",
      "Epoch 12/100\n",
      "168/168 [==============================] - 0s 121us/sample - loss: 0.1989 - accuracy: 0.9643\n",
      "Epoch 13/100\n",
      "168/168 [==============================] - 0s 119us/sample - loss: 0.1687 - accuracy: 0.9940\n",
      "Epoch 14/100\n",
      "168/168 [==============================] - 0s 119us/sample - loss: 0.1528 - accuracy: 1.0000\n",
      "Epoch 15/100\n",
      "168/168 [==============================] - 0s 125us/sample - loss: 0.1351 - accuracy: 0.9940\n",
      "Epoch 16/100\n",
      "168/168 [==============================] - 0s 124us/sample - loss: 0.1254 - accuracy: 0.9762\n",
      "Epoch 17/100\n",
      "168/168 [==============================] - 0s 133us/sample - loss: 0.1097 - accuracy: 0.9940\n",
      "Epoch 18/100\n",
      "168/168 [==============================] - 0s 173us/sample - loss: 0.0990 - accuracy: 0.9940\n",
      "Epoch 19/100\n",
      "168/168 [==============================] - 0s 273us/sample - loss: 0.0902 - accuracy: 0.9940\n",
      "Epoch 20/100\n",
      "168/168 [==============================] - 0s 166us/sample - loss: 0.0830 - accuracy: 1.0000\n",
      "Epoch 21/100\n",
      "168/168 [==============================] - 0s 121us/sample - loss: 0.0794 - accuracy: 1.0000\n",
      "Epoch 22/100\n",
      "168/168 [==============================] - 0s 123us/sample - loss: 0.0742 - accuracy: 0.9881\n",
      "Epoch 23/100\n",
      "168/168 [==============================] - 0s 113us/sample - loss: 0.0647 - accuracy: 1.0000\n",
      "Epoch 24/100\n",
      "168/168 [==============================] - 0s 128us/sample - loss: 0.0628 - accuracy: 1.0000\n",
      "Epoch 25/100\n",
      "168/168 [==============================] - 0s 123us/sample - loss: 0.0585 - accuracy: 0.9881\n",
      "Epoch 26/100\n",
      "168/168 [==============================] - 0s 128us/sample - loss: 0.0613 - accuracy: 0.9940\n",
      "Epoch 27/100\n",
      "168/168 [==============================] - 0s 120us/sample - loss: 0.0528 - accuracy: 1.0000\n",
      "Epoch 28/100\n",
      "168/168 [==============================] - 0s 130us/sample - loss: 0.0513 - accuracy: 0.9881\n",
      "Epoch 29/100\n",
      "168/168 [==============================] - 0s 131us/sample - loss: 0.0491 - accuracy: 0.9940\n",
      "Epoch 30/100\n",
      "168/168 [==============================] - 0s 120us/sample - loss: 0.0444 - accuracy: 1.0000\n",
      "Epoch 31/100\n",
      "168/168 [==============================] - 0s 119us/sample - loss: 0.0426 - accuracy: 0.9940\n",
      "Epoch 32/100\n",
      "168/168 [==============================] - 0s 137us/sample - loss: 0.0435 - accuracy: 0.9940\n",
      "Epoch 33/100\n",
      "168/168 [==============================] - 0s 154us/sample - loss: 0.0365 - accuracy: 1.0000\n",
      "Epoch 34/100\n",
      "168/168 [==============================] - 0s 124us/sample - loss: 0.0350 - accuracy: 1.0000\n",
      "Epoch 35/100\n",
      "168/168 [==============================] - 0s 115us/sample - loss: 0.0329 - accuracy: 1.0000\n",
      "Epoch 36/100\n",
      "168/168 [==============================] - 0s 137us/sample - loss: 0.0331 - accuracy: 1.0000\n",
      "Epoch 37/100\n",
      "168/168 [==============================] - 0s 122us/sample - loss: 0.0337 - accuracy: 0.9940\n",
      "Epoch 38/100\n",
      "168/168 [==============================] - 0s 119us/sample - loss: 0.0306 - accuracy: 1.0000\n",
      "Epoch 39/100\n",
      "168/168 [==============================] - 0s 124us/sample - loss: 0.0340 - accuracy: 0.9881\n",
      "Epoch 40/100\n",
      "168/168 [==============================] - 0s 121us/sample - loss: 0.0314 - accuracy: 1.0000\n",
      "Epoch 41/100\n",
      "168/168 [==============================] - 0s 116us/sample - loss: 0.0300 - accuracy: 1.0000\n",
      "Epoch 42/100\n",
      "168/168 [==============================] - 0s 133us/sample - loss: 0.0268 - accuracy: 1.0000\n",
      "Epoch 43/100\n",
      "168/168 [==============================] - 0s 122us/sample - loss: 0.0256 - accuracy: 1.0000\n",
      "Epoch 44/100\n",
      "168/168 [==============================] - 0s 178us/sample - loss: 0.0254 - accuracy: 1.0000\n",
      "Epoch 45/100\n",
      "168/168 [==============================] - 0s 218us/sample - loss: 0.0239 - accuracy: 1.0000\n",
      "Epoch 46/100\n",
      "168/168 [==============================] - 0s 137us/sample - loss: 0.0313 - accuracy: 0.9940\n",
      "Epoch 47/100\n",
      "168/168 [==============================] - 0s 143us/sample - loss: 0.0256 - accuracy: 1.0000\n",
      "Epoch 48/100\n",
      "168/168 [==============================] - 0s 133us/sample - loss: 0.0215 - accuracy: 1.0000\n",
      "Epoch 49/100\n",
      "168/168 [==============================] - 0s 148us/sample - loss: 0.0214 - accuracy: 1.0000\n",
      "Epoch 50/100\n",
      "168/168 [==============================] - 0s 158us/sample - loss: 0.0209 - accuracy: 1.0000\n",
      "Epoch 51/100\n",
      "168/168 [==============================] - 0s 155us/sample - loss: 0.0187 - accuracy: 1.0000\n",
      "Epoch 52/100\n",
      "168/168 [==============================] - 0s 156us/sample - loss: 0.0195 - accuracy: 1.0000\n",
      "Epoch 53/100\n",
      "168/168 [==============================] - 0s 166us/sample - loss: 0.0180 - accuracy: 1.0000\n",
      "Epoch 54/100\n",
      "168/168 [==============================] - 0s 177us/sample - loss: 0.0183 - accuracy: 1.0000\n",
      "Epoch 55/100\n",
      "168/168 [==============================] - 0s 149us/sample - loss: 0.0171 - accuracy: 1.0000\n",
      "Epoch 56/100\n",
      "168/168 [==============================] - 0s 120us/sample - loss: 0.0166 - accuracy: 1.0000\n",
      "Epoch 57/100\n",
      "168/168 [==============================] - 0s 139us/sample - loss: 0.0164 - accuracy: 1.0000\n",
      "Epoch 58/100\n",
      "168/168 [==============================] - 0s 142us/sample - loss: 0.0171 - accuracy: 1.0000\n",
      "Epoch 59/100\n",
      "168/168 [==============================] - 0s 141us/sample - loss: 0.0153 - accuracy: 1.0000\n",
      "Epoch 60/100\n",
      "168/168 [==============================] - 0s 268us/sample - loss: 0.0160 - accuracy: 1.0000\n",
      "Epoch 61/100\n",
      "168/168 [==============================] - 0s 178us/sample - loss: 0.0212 - accuracy: 0.9940\n",
      "Epoch 62/100\n",
      "168/168 [==============================] - 0s 119us/sample - loss: 0.0179 - accuracy: 1.0000\n",
      "Epoch 63/100\n",
      "168/168 [==============================] - 0s 154us/sample - loss: 0.0246 - accuracy: 0.9940\n",
      "Epoch 64/100\n",
      "168/168 [==============================] - 0s 113us/sample - loss: 0.0182 - accuracy: 1.0000\n",
      "Epoch 65/100\n",
      "168/168 [==============================] - 0s 124us/sample - loss: 0.0157 - accuracy: 0.9940\n",
      "Epoch 66/100\n",
      "168/168 [==============================] - 0s 157us/sample - loss: 0.0163 - accuracy: 1.0000\n",
      "Epoch 67/100\n",
      "168/168 [==============================] - 0s 165us/sample - loss: 0.0128 - accuracy: 1.0000\n",
      "Epoch 68/100\n",
      "168/168 [==============================] - 0s 164us/sample - loss: 0.0130 - accuracy: 1.0000\n",
      "Epoch 69/100\n",
      "168/168 [==============================] - 0s 173us/sample - loss: 0.0124 - accuracy: 1.0000\n",
      "Epoch 70/100\n",
      "168/168 [==============================] - 0s 161us/sample - loss: 0.0138 - accuracy: 1.0000\n",
      "Epoch 71/100\n",
      "168/168 [==============================] - 0s 178us/sample - loss: 0.0124 - accuracy: 1.0000\n",
      "Epoch 72/100\n",
      "168/168 [==============================] - 0s 176us/sample - loss: 0.0166 - accuracy: 0.9940\n",
      "Epoch 73/100\n",
      "168/168 [==============================] - 0s 167us/sample - loss: 0.0128 - accuracy: 1.0000\n",
      "Epoch 74/100\n",
      "168/168 [==============================] - 0s 168us/sample - loss: 0.0131 - accuracy: 1.0000\n",
      "Epoch 75/100\n",
      "168/168 [==============================] - 0s 167us/sample - loss: 0.0107 - accuracy: 1.0000\n",
      "Epoch 76/100\n",
      "168/168 [==============================] - 0s 150us/sample - loss: 0.0131 - accuracy: 1.0000\n",
      "Epoch 77/100\n",
      "168/168 [==============================] - 0s 106us/sample - loss: 0.0101 - accuracy: 1.0000\n",
      "Epoch 78/100\n"
     ]
    },
    {
     "name": "stdout",
     "output_type": "stream",
     "text": [
      "168/168 [==============================] - 0s 118us/sample - loss: 0.0101 - accuracy: 1.0000\n",
      "Epoch 79/100\n",
      "168/168 [==============================] - 0s 121us/sample - loss: 0.0103 - accuracy: 1.0000\n",
      "Epoch 80/100\n",
      "168/168 [==============================] - 0s 148us/sample - loss: 0.0097 - accuracy: 1.0000\n",
      "Epoch 81/100\n",
      "168/168 [==============================] - 0s 177us/sample - loss: 0.0097 - accuracy: 1.0000\n",
      "Epoch 82/100\n",
      "168/168 [==============================] - 0s 127us/sample - loss: 0.0099 - accuracy: 1.0000\n",
      "Epoch 83/100\n",
      "168/168 [==============================] - 0s 149us/sample - loss: 0.0097 - accuracy: 1.0000\n",
      "Epoch 84/100\n",
      "168/168 [==============================] - 0s 215us/sample - loss: 0.0098 - accuracy: 1.0000\n",
      "Epoch 85/100\n",
      "168/168 [==============================] - 0s 148us/sample - loss: 0.0097 - accuracy: 1.0000\n",
      "Epoch 86/100\n",
      "168/168 [==============================] - 0s 131us/sample - loss: 0.0110 - accuracy: 1.0000\n",
      "Epoch 87/100\n",
      "168/168 [==============================] - 0s 125us/sample - loss: 0.0074 - accuracy: 1.0000\n",
      "Epoch 88/100\n",
      "168/168 [==============================] - 0s 143us/sample - loss: 0.0162 - accuracy: 0.9940\n",
      "Epoch 89/100\n",
      "168/168 [==============================] - 0s 166us/sample - loss: 0.0104 - accuracy: 1.0000\n",
      "Epoch 90/100\n",
      "168/168 [==============================] - 0s 126us/sample - loss: 0.0103 - accuracy: 1.0000\n",
      "Epoch 91/100\n",
      "168/168 [==============================] - 0s 101us/sample - loss: 0.0083 - accuracy: 1.0000\n",
      "Epoch 92/100\n",
      "168/168 [==============================] - 0s 147us/sample - loss: 0.0079 - accuracy: 1.0000\n",
      "Epoch 93/100\n",
      "168/168 [==============================] - 0s 150us/sample - loss: 0.0078 - accuracy: 1.0000\n",
      "Epoch 94/100\n",
      "168/168 [==============================] - 0s 131us/sample - loss: 0.0078 - accuracy: 1.0000\n",
      "Epoch 95/100\n",
      "168/168 [==============================] - 0s 97us/sample - loss: 0.0078 - accuracy: 1.0000\n",
      "Epoch 96/100\n",
      "168/168 [==============================] - 0s 95us/sample - loss: 0.0082 - accuracy: 1.0000\n",
      "Epoch 97/100\n",
      "168/168 [==============================] - 0s 95us/sample - loss: 0.0089 - accuracy: 1.0000\n",
      "Epoch 98/100\n",
      "168/168 [==============================] - 0s 93us/sample - loss: 0.0073 - accuracy: 1.0000\n",
      "Epoch 99/100\n",
      "168/168 [==============================] - 0s 181us/sample - loss: 0.0071 - accuracy: 1.0000\n",
      "Epoch 100/100\n",
      "168/168 [==============================] - 0s 249us/sample - loss: 0.0074 - accuracy: 1.0000\n"
     ]
    },
    {
     "data": {
      "text/plain": [
       "<tensorflow.python.keras.callbacks.History at 0x25467e8bf08>"
      ]
     },
     "execution_count": 60,
     "metadata": {},
     "output_type": "execute_result"
    }
   ],
   "source": [
    "model.fit(x_f_train,y_f_train, epochs = 100)\n"
   ]
  },
  {
   "cell_type": "code",
   "execution_count": 61,
   "metadata": {},
   "outputs": [
    {
     "name": "stdout",
     "output_type": "stream",
     "text": [
      "72/72 [==============================] - 0s 3ms/sample - loss: 0.1101 - accuracy: 0.9722\n",
      "Loss % = 11.009497205830282 , Accuracy % = 97.22222089767456 \n"
     ]
    }
   ],
   "source": [
    "val_loss,val_acc = model.evaluate(x_f_test,y_f_test)\n",
    "print(\"Loss % = {} , Accuracy % = {} \".format(val_loss*100,val_acc*100))"
   ]
  },
  {
   "cell_type": "code",
   "execution_count": 62,
   "metadata": {},
   "outputs": [],
   "source": [
    "model.save('star_classification.h5')"
   ]
  },
  {
   "cell_type": "code",
   "execution_count": null,
   "metadata": {},
   "outputs": [],
   "source": []
  }
 ],
 "metadata": {
  "kernelspec": {
   "display_name": "Python 3",
   "language": "python",
   "name": "python3"
  },
  "language_info": {
   "codemirror_mode": {
    "name": "ipython",
    "version": 3
   },
   "file_extension": ".py",
   "mimetype": "text/x-python",
   "name": "python",
   "nbconvert_exporter": "python",
   "pygments_lexer": "ipython3",
   "version": "3.7.4"
  }
 },
 "nbformat": 4,
 "nbformat_minor": 2
}
